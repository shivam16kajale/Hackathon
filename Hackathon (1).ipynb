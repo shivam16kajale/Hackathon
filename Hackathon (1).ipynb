{
 "cells": [
  {
   "cell_type": "code",
   "execution_count": 1,
   "id": "1399cf18-887c-4d24-a28f-10e06f14a3ab",
   "metadata": {},
   "outputs": [],
   "source": [
    "import pandas as pd\n",
    "import numpy as np\n",
    "import matplotlib.pyplot as plt\n",
    "import seaborn as sns\n",
    "\n"
   ]
  },
  {
   "cell_type": "code",
   "execution_count": 2,
   "id": "ddb9259e-8a5f-449f-bb61-dcfd79763a23",
   "metadata": {},
   "outputs": [],
   "source": [
    "zomato_data = pd.read_csv(\"zomato_data.csv\")\n",
    "geo_data = pd.read_csv('Geographical Coordinates.csv')"
   ]
  },
  {
   "cell_type": "code",
   "execution_count": 3,
   "id": "a904724e-7721-4366-8231-c68ab60b56ff",
   "metadata": {},
   "outputs": [
    {
     "data": {
      "text/html": [
       "<div>\n",
       "<style scoped>\n",
       "    .dataframe tbody tr th:only-of-type {\n",
       "        vertical-align: middle;\n",
       "    }\n",
       "\n",
       "    .dataframe tbody tr th {\n",
       "        vertical-align: top;\n",
       "    }\n",
       "\n",
       "    .dataframe thead th {\n",
       "        text-align: right;\n",
       "    }\n",
       "</style>\n",
       "<table border=\"1\" class=\"dataframe\">\n",
       "  <thead>\n",
       "    <tr style=\"text-align: right;\">\n",
       "      <th></th>\n",
       "      <th>online_order</th>\n",
       "      <th>book_table</th>\n",
       "      <th>rate</th>\n",
       "      <th>votes</th>\n",
       "      <th>rest_type</th>\n",
       "      <th>dish_liked</th>\n",
       "      <th>cuisines</th>\n",
       "      <th>approx_costfor_two_people</th>\n",
       "      <th>listed_intype</th>\n",
       "      <th>listed_incity</th>\n",
       "    </tr>\n",
       "  </thead>\n",
       "  <tbody>\n",
       "    <tr>\n",
       "      <th>0</th>\n",
       "      <td>Yes</td>\n",
       "      <td>Yes</td>\n",
       "      <td>4.1/5</td>\n",
       "      <td>775</td>\n",
       "      <td>Casual Dining</td>\n",
       "      <td>Pasta, Lunch Buffet, Masala Papad, Paneer Laja...</td>\n",
       "      <td>North Indian, Mughlai, Chinese</td>\n",
       "      <td>800</td>\n",
       "      <td>Buffet</td>\n",
       "      <td>Banashankari</td>\n",
       "    </tr>\n",
       "    <tr>\n",
       "      <th>1</th>\n",
       "      <td>Yes</td>\n",
       "      <td>No</td>\n",
       "      <td>4.1/5</td>\n",
       "      <td>787</td>\n",
       "      <td>Casual Dining</td>\n",
       "      <td>Momos, Lunch Buffet, Chocolate Nirvana, Thai G...</td>\n",
       "      <td>Chinese, North Indian, Thai</td>\n",
       "      <td>800</td>\n",
       "      <td>Buffet</td>\n",
       "      <td>Banashankari</td>\n",
       "    </tr>\n",
       "    <tr>\n",
       "      <th>2</th>\n",
       "      <td>Yes</td>\n",
       "      <td>No</td>\n",
       "      <td>3.8/5</td>\n",
       "      <td>918</td>\n",
       "      <td>Cafe, Casual Dining</td>\n",
       "      <td>Churros, Cannelloni, Minestrone Soup, Hot Choc...</td>\n",
       "      <td>Cafe, Mexican, Italian</td>\n",
       "      <td>800</td>\n",
       "      <td>Buffet</td>\n",
       "      <td>Banashankari</td>\n",
       "    </tr>\n",
       "    <tr>\n",
       "      <th>3</th>\n",
       "      <td>No</td>\n",
       "      <td>No</td>\n",
       "      <td>3.7/5</td>\n",
       "      <td>88</td>\n",
       "      <td>Quick Bites</td>\n",
       "      <td>Masala Dosa</td>\n",
       "      <td>South Indian, North Indian</td>\n",
       "      <td>300</td>\n",
       "      <td>Buffet</td>\n",
       "      <td>Banashankari</td>\n",
       "    </tr>\n",
       "    <tr>\n",
       "      <th>4</th>\n",
       "      <td>No</td>\n",
       "      <td>No</td>\n",
       "      <td>3.8/5</td>\n",
       "      <td>166</td>\n",
       "      <td>Casual Dining</td>\n",
       "      <td>Panipuri, Gol Gappe</td>\n",
       "      <td>North Indian, Rajasthani</td>\n",
       "      <td>600</td>\n",
       "      <td>Buffet</td>\n",
       "      <td>Banashankari</td>\n",
       "    </tr>\n",
       "  </tbody>\n",
       "</table>\n",
       "</div>"
      ],
      "text/plain": [
       "  online_order book_table   rate  votes            rest_type  \\\n",
       "0          Yes        Yes  4.1/5    775        Casual Dining   \n",
       "1          Yes         No  4.1/5    787        Casual Dining   \n",
       "2          Yes         No  3.8/5    918  Cafe, Casual Dining   \n",
       "3           No         No  3.7/5     88          Quick Bites   \n",
       "4           No         No  3.8/5    166        Casual Dining   \n",
       "\n",
       "                                          dish_liked  \\\n",
       "0  Pasta, Lunch Buffet, Masala Papad, Paneer Laja...   \n",
       "1  Momos, Lunch Buffet, Chocolate Nirvana, Thai G...   \n",
       "2  Churros, Cannelloni, Minestrone Soup, Hot Choc...   \n",
       "3                                        Masala Dosa   \n",
       "4                                Panipuri, Gol Gappe   \n",
       "\n",
       "                         cuisines approx_costfor_two_people listed_intype  \\\n",
       "0  North Indian, Mughlai, Chinese                       800        Buffet   \n",
       "1     Chinese, North Indian, Thai                       800        Buffet   \n",
       "2          Cafe, Mexican, Italian                       800        Buffet   \n",
       "3      South Indian, North Indian                       300        Buffet   \n",
       "4        North Indian, Rajasthani                       600        Buffet   \n",
       "\n",
       "  listed_incity  \n",
       "0  Banashankari  \n",
       "1  Banashankari  \n",
       "2  Banashankari  \n",
       "3  Banashankari  \n",
       "4  Banashankari  "
      ]
     },
     "execution_count": 3,
     "metadata": {},
     "output_type": "execute_result"
    }
   ],
   "source": [
    "zomato_data.head()"
   ]
  },
  {
   "cell_type": "code",
   "execution_count": 4,
   "id": "96e9bd63-45f0-439b-a6f7-7a5e824ab557",
   "metadata": {},
   "outputs": [
    {
     "data": {
      "text/html": [
       "<div>\n",
       "<style scoped>\n",
       "    .dataframe tbody tr th:only-of-type {\n",
       "        vertical-align: middle;\n",
       "    }\n",
       "\n",
       "    .dataframe tbody tr th {\n",
       "        vertical-align: top;\n",
       "    }\n",
       "\n",
       "    .dataframe thead th {\n",
       "        text-align: right;\n",
       "    }\n",
       "</style>\n",
       "<table border=\"1\" class=\"dataframe\">\n",
       "  <thead>\n",
       "    <tr style=\"text-align: right;\">\n",
       "      <th></th>\n",
       "      <th>listed_incity</th>\n",
       "      <th>Latitude</th>\n",
       "      <th>Longitude</th>\n",
       "    </tr>\n",
       "  </thead>\n",
       "  <tbody>\n",
       "    <tr>\n",
       "      <th>0</th>\n",
       "      <td>Banashankari</td>\n",
       "      <td>12.939333</td>\n",
       "      <td>77.553982</td>\n",
       "    </tr>\n",
       "    <tr>\n",
       "      <th>1</th>\n",
       "      <td>Bannerghatta Road</td>\n",
       "      <td>12.952660</td>\n",
       "      <td>77.605048</td>\n",
       "    </tr>\n",
       "    <tr>\n",
       "      <th>2</th>\n",
       "      <td>Basavanagudi</td>\n",
       "      <td>12.941726</td>\n",
       "      <td>77.575502</td>\n",
       "    </tr>\n",
       "    <tr>\n",
       "      <th>3</th>\n",
       "      <td>Bellandur</td>\n",
       "      <td>12.925352</td>\n",
       "      <td>77.675941</td>\n",
       "    </tr>\n",
       "    <tr>\n",
       "      <th>4</th>\n",
       "      <td>Brigade Road</td>\n",
       "      <td>12.967358</td>\n",
       "      <td>77.606435</td>\n",
       "    </tr>\n",
       "  </tbody>\n",
       "</table>\n",
       "</div>"
      ],
      "text/plain": [
       "       listed_incity   Latitude  Longitude\n",
       "0       Banashankari  12.939333  77.553982\n",
       "1  Bannerghatta Road  12.952660  77.605048\n",
       "2       Basavanagudi  12.941726  77.575502\n",
       "3          Bellandur  12.925352  77.675941\n",
       "4       Brigade Road  12.967358  77.606435"
      ]
     },
     "execution_count": 4,
     "metadata": {},
     "output_type": "execute_result"
    }
   ],
   "source": [
    "geo_data.head()"
   ]
  },
  {
   "cell_type": "code",
   "execution_count": 5,
   "id": "b948b59b-70f9-4c79-9b71-f477584a2d89",
   "metadata": {},
   "outputs": [],
   "source": [
    "## zomato data\n"
   ]
  },
  {
   "cell_type": "code",
   "execution_count": 6,
   "id": "79464b97-ddc8-4df3-b6d0-a0b06a659a78",
   "metadata": {},
   "outputs": [
    {
     "name": "stdout",
     "output_type": "stream",
     "text": [
      "<class 'pandas.core.frame.DataFrame'>\n",
      "RangeIndex: 51717 entries, 0 to 51716\n",
      "Data columns (total 10 columns):\n",
      " #   Column                     Non-Null Count  Dtype \n",
      "---  ------                     --------------  ----- \n",
      " 0   online_order               51717 non-null  object\n",
      " 1   book_table                 51717 non-null  object\n",
      " 2   rate                       43942 non-null  object\n",
      " 3   votes                      51717 non-null  int64 \n",
      " 4   rest_type                  51490 non-null  object\n",
      " 5   dish_liked                 23639 non-null  object\n",
      " 6   cuisines                   51672 non-null  object\n",
      " 7   approx_costfor_two_people  51371 non-null  object\n",
      " 8   listed_intype              51717 non-null  object\n",
      " 9   listed_incity              51717 non-null  object\n",
      "dtypes: int64(1), object(9)\n",
      "memory usage: 3.9+ MB\n"
     ]
    }
   ],
   "source": [
    "zomato_data.info()"
   ]
  },
  {
   "cell_type": "code",
   "execution_count": 7,
   "id": "71fd1ef7-451b-4154-978a-c87ac44d4f67",
   "metadata": {},
   "outputs": [
    {
     "data": {
      "text/plain": [
       "online_order                     0\n",
       "book_table                       0\n",
       "rate                          7775\n",
       "votes                            0\n",
       "rest_type                      227\n",
       "dish_liked                   28078\n",
       "cuisines                        45\n",
       "approx_costfor_two_people      346\n",
       "listed_intype                    0\n",
       "listed_incity                    0\n",
       "dtype: int64"
      ]
     },
     "execution_count": 7,
     "metadata": {},
     "output_type": "execute_result"
    }
   ],
   "source": [
    "zomato_data.isnull().sum()"
   ]
  },
  {
   "cell_type": "code",
   "execution_count": 8,
   "id": "120afeb9-e0d0-434d-a668-caf0066b6040",
   "metadata": {},
   "outputs": [
    {
     "data": {
      "text/plain": [
       "0         4.1/5\n",
       "1         4.1/5\n",
       "2         3.8/5\n",
       "3         3.7/5\n",
       "4         3.8/5\n",
       "          ...  \n",
       "51712    3.6 /5\n",
       "51713       NaN\n",
       "51714       NaN\n",
       "51715    4.3 /5\n",
       "51716    3.4 /5\n",
       "Name: rate, Length: 51717, dtype: object"
      ]
     },
     "execution_count": 8,
     "metadata": {},
     "output_type": "execute_result"
    }
   ],
   "source": [
    "zomato_data['rate']"
   ]
  },
  {
   "cell_type": "code",
   "execution_count": 9,
   "id": "75f75aca-c1c4-4f4b-add5-027231ee957e",
   "metadata": {},
   "outputs": [
    {
     "data": {
      "text/plain": [
       "0         4.1\n",
       "1         4.1\n",
       "2         3.8\n",
       "3         3.7\n",
       "4         3.8\n",
       "         ... \n",
       "51712    3.6 \n",
       "51713     NaN\n",
       "51714     NaN\n",
       "51715    4.3 \n",
       "51716    3.4 \n",
       "Name: rate, Length: 51717, dtype: object"
      ]
     },
     "execution_count": 9,
     "metadata": {},
     "output_type": "execute_result"
    }
   ],
   "source": [
    "# remove /5 from rating\n",
    "zomato_data['rate']=zomato_data['rate'].str.replace(\"/5\",'')\n",
    "zomato_data['rate']"
   ]
  },
  {
   "cell_type": "code",
   "execution_count": 10,
   "id": "b7d8dbd9-4c00-427f-877d-57d3d3b63070",
   "metadata": {},
   "outputs": [
    {
     "data": {
      "text/plain": [
       "array(['4.1', '3.8', '3.7', '3.6', '4.6', '4.0', '4.2', '3.9', '3.1',\n",
       "       '3.0', '3.2', '3.3', '2.8', '4.4', '4.3', 'NEW', '2.9', '3.5', nan,\n",
       "       '2.6', '3.8 ', '3.4', '4.5', '2.5', '2.7', '4.7', '2.4', '2.2',\n",
       "       '2.3', '3.4 ', '-', '3.6 ', '4.8', '3.9 ', '4.2 ', '4.0 ', '4.1 ',\n",
       "       '3.7 ', '3.1 ', '2.9 ', '3.3 ', '2.8 ', '3.5 ', '2.7 ', '2.5 ',\n",
       "       '3.2 ', '2.6 ', '4.5 ', '4.3 ', '4.4 ', '4.9', '2.1', '2.0', '1.8',\n",
       "       '4.6 ', '4.9 ', '3.0 ', '4.8 ', '2.3 ', '4.7 ', '2.4 ', '2.1 ',\n",
       "       '2.2 ', '2.0 ', '1.8 '], dtype=object)"
      ]
     },
     "execution_count": 10,
     "metadata": {},
     "output_type": "execute_result"
    }
   ],
   "source": [
    "zomato_data['rate'].unique()"
   ]
  },
  {
   "cell_type": "code",
   "execution_count": 11,
   "id": "7f671ccb-f9aa-480d-8621-da546f0dc94d",
   "metadata": {},
   "outputs": [],
   "source": [
    "zomato_data['rate']=zomato_data['rate'].replace(['NEW','nan','-'],np.nan)"
   ]
  },
  {
   "cell_type": "code",
   "execution_count": 12,
   "id": "f4e0a4d1-1fe9-4d6d-a8ad-2f0615fa2ce4",
   "metadata": {},
   "outputs": [
    {
     "data": {
      "text/plain": [
       "array(['4.1', '3.8', '3.7', '3.6', '4.6', '4.0', '4.2', '3.9', '3.1',\n",
       "       '3.0', '3.2', '3.3', '2.8', '4.4', '4.3', nan, '2.9', '3.5', '2.6',\n",
       "       '3.8 ', '3.4', '4.5', '2.5', '2.7', '4.7', '2.4', '2.2', '2.3',\n",
       "       '3.4 ', '3.6 ', '4.8', '3.9 ', '4.2 ', '4.0 ', '4.1 ', '3.7 ',\n",
       "       '3.1 ', '2.9 ', '3.3 ', '2.8 ', '3.5 ', '2.7 ', '2.5 ', '3.2 ',\n",
       "       '2.6 ', '4.5 ', '4.3 ', '4.4 ', '4.9', '2.1', '2.0', '1.8', '4.6 ',\n",
       "       '4.9 ', '3.0 ', '4.8 ', '2.3 ', '4.7 ', '2.4 ', '2.1 ', '2.2 ',\n",
       "       '2.0 ', '1.8 '], dtype=object)"
      ]
     },
     "execution_count": 12,
     "metadata": {},
     "output_type": "execute_result"
    }
   ],
   "source": [
    "zomato_data['rate'].unique()"
   ]
  },
  {
   "cell_type": "code",
   "execution_count": 13,
   "id": "33905115-eff2-497a-82d8-75afd7aa643a",
   "metadata": {},
   "outputs": [],
   "source": [
    "zomato_data['rate']=pd.to_numeric(zomato_data['rate'], errors='coerce')"
   ]
  },
  {
   "cell_type": "code",
   "execution_count": 14,
   "id": "719829bf-29e6-4039-99d0-2a3049f84865",
   "metadata": {},
   "outputs": [
    {
     "data": {
      "text/plain": [
       "10052"
      ]
     },
     "execution_count": 14,
     "metadata": {},
     "output_type": "execute_result"
    }
   ],
   "source": [
    "zomato_data['rate'].isnull().sum()"
   ]
  },
  {
   "cell_type": "code",
   "execution_count": 15,
   "id": "f4d80aff-2941-4b15-aed6-b619ff96417c",
   "metadata": {},
   "outputs": [
    {
     "name": "stderr",
     "output_type": "stream",
     "text": [
      "C:\\Users\\SHIVAM\\AppData\\Local\\Temp\\ipykernel_18360\\2503414322.py:1: FutureWarning: A value is trying to be set on a copy of a DataFrame or Series through chained assignment using an inplace method.\n",
      "The behavior will change in pandas 3.0. This inplace method will never work because the intermediate object on which we are setting values always behaves as a copy.\n",
      "\n",
      "For example, when doing 'df[col].method(value, inplace=True)', try using 'df.method({col: value}, inplace=True)' or df[col] = df[col].method(value) instead, to perform the operation inplace on the original object.\n",
      "\n",
      "\n",
      "  zomato_data['rate'].fillna(zomato_data['rate'].median(),inplace=True)\n"
     ]
    }
   ],
   "source": [
    "zomato_data['rate'].fillna(zomato_data['rate'].median(),inplace=True)"
   ]
  },
  {
   "cell_type": "code",
   "execution_count": 16,
   "id": "d74d95f6-2f1c-4897-83a7-df8e8fd39f91",
   "metadata": {},
   "outputs": [
    {
     "data": {
      "text/plain": [
       "0"
      ]
     },
     "execution_count": 16,
     "metadata": {},
     "output_type": "execute_result"
    }
   ],
   "source": [
    "zomato_data['rate'].isnull().sum()"
   ]
  },
  {
   "cell_type": "code",
   "execution_count": 17,
   "id": "b71853d6-5935-4d03-bbda-1eb5a31d16b7",
   "metadata": {},
   "outputs": [
    {
     "data": {
      "text/plain": [
       "0        4.1\n",
       "1        4.1\n",
       "2        3.8\n",
       "3        3.7\n",
       "4        3.8\n",
       "        ... \n",
       "51712    3.6\n",
       "51713    3.7\n",
       "51714    3.7\n",
       "51715    4.3\n",
       "51716    3.4\n",
       "Name: rate, Length: 51717, dtype: float64"
      ]
     },
     "execution_count": 17,
     "metadata": {},
     "output_type": "execute_result"
    }
   ],
   "source": [
    "zomato_data['rate']"
   ]
  },
  {
   "cell_type": "code",
   "execution_count": 18,
   "id": "75bcb81c-097d-47eb-95a3-f8917ede2a75",
   "metadata": {},
   "outputs": [],
   "source": [
    "## Step 2: Cost Column (approx_costfor_two_people)"
   ]
  },
  {
   "cell_type": "code",
   "execution_count": 19,
   "id": "fefccce4-fc18-493a-bbfd-6e463bf74f88",
   "metadata": {},
   "outputs": [
    {
     "data": {
      "text/plain": [
       "346"
      ]
     },
     "execution_count": 19,
     "metadata": {},
     "output_type": "execute_result"
    }
   ],
   "source": [
    "zomato_data['approx_costfor_two_people'].isnull().sum()"
   ]
  },
  {
   "cell_type": "code",
   "execution_count": 20,
   "id": "5fe53207-9b74-4b8b-bd6b-d23345e1718a",
   "metadata": {},
   "outputs": [],
   "source": [
    "zomato_data['approx_costfor_two_people']=zomato_data['approx_costfor_two_people'].str.replace(',','')"
   ]
  },
  {
   "cell_type": "code",
   "execution_count": 21,
   "id": "fdbacef4-e8ef-41cb-82d6-744247199841",
   "metadata": {},
   "outputs": [],
   "source": [
    "zomato_data['approx_costfor_two_people']=pd.to_numeric(zomato_data['approx_costfor_two_people'],errors='coerce')"
   ]
  },
  {
   "cell_type": "code",
   "execution_count": 22,
   "id": "2d3cec75-e501-4183-ae45-c3965daa8aa8",
   "metadata": {},
   "outputs": [],
   "source": [
    "zomato_data['approx_costfor_two_people']=zomato_data['approx_costfor_two_people'].fillna(zomato_data['approx_costfor_two_people'].median())"
   ]
  },
  {
   "cell_type": "code",
   "execution_count": 23,
   "id": "62bed7b8-6542-43f4-9bce-1fdaf7e3d655",
   "metadata": {},
   "outputs": [
    {
     "data": {
      "text/plain": [
       "0"
      ]
     },
     "execution_count": 23,
     "metadata": {},
     "output_type": "execute_result"
    }
   ],
   "source": [
    "zomato_data['approx_costfor_two_people'].isnull().sum()"
   ]
  },
  {
   "cell_type": "markdown",
   "id": "924610ef-7c91-48de-8f8a-164cdac3be00",
   "metadata": {},
   "source": [
    "Step 3: Categorical Columns\n",
    "dish_liked → Replace NaN with \"Not Available\"\n",
    "\n",
    "\n",
    "cuisines → Replace NaN with \"Other\"\n",
    "\n",
    "\n",
    "rest_type → Replace NaN with \"Unknown\""
   ]
  },
  {
   "cell_type": "code",
   "execution_count": 25,
   "id": "992211e7-182e-45c9-977d-13c3878b568c",
   "metadata": {},
   "outputs": [],
   "source": [
    "zomato_data['dish_liked']=zomato_data['dish_liked'].replace(np.nan,'Not Available')"
   ]
  },
  {
   "cell_type": "code",
   "execution_count": 26,
   "id": "80bb2c3c-7a1c-46a3-8895-427ade2ecf2a",
   "metadata": {},
   "outputs": [
    {
     "data": {
      "text/plain": [
       "0"
      ]
     },
     "execution_count": 26,
     "metadata": {},
     "output_type": "execute_result"
    }
   ],
   "source": [
    "zomato_data['dish_liked'].isnull().sum()"
   ]
  },
  {
   "cell_type": "code",
   "execution_count": 27,
   "id": "ea84db60-b99e-4d1a-b608-8780d636057f",
   "metadata": {},
   "outputs": [
    {
     "data": {
      "text/plain": [
       "0"
      ]
     },
     "execution_count": 27,
     "metadata": {},
     "output_type": "execute_result"
    }
   ],
   "source": [
    "zomato_data['cuisines']=zomato_data['cuisines'].replace(np.nan,'Other')\n",
    "zomato_data['cuisines'].isnull().sum()"
   ]
  },
  {
   "cell_type": "code",
   "execution_count": 28,
   "id": "337457a1-d835-420c-ad7c-92ca4502bf5c",
   "metadata": {},
   "outputs": [
    {
     "data": {
      "text/plain": [
       "0"
      ]
     },
     "execution_count": 28,
     "metadata": {},
     "output_type": "execute_result"
    }
   ],
   "source": [
    "zomato_data['rest_type']=zomato_data['rest_type'].replace(np.nan,'Unknown')\n",
    "zomato_data['rest_type'].isnull().sum()"
   ]
  },
  {
   "cell_type": "markdown",
   "id": "9d854958-58f6-496e-99a7-db2bb1d1a8ff",
   "metadata": {},
   "source": [
    "Step 4: Votes Column\n",
    "Fill missing values in votes with medianm"
   ]
  },
  {
   "cell_type": "code",
   "execution_count": 30,
   "id": "ff92263d-f163-42ca-90df-b3e8fd69e356",
   "metadata": {},
   "outputs": [
    {
     "data": {
      "text/plain": [
       "0"
      ]
     },
     "execution_count": 30,
     "metadata": {},
     "output_type": "execute_result"
    }
   ],
   "source": [
    "#votes column\n",
    "zomato_data['votes'].isnull().sum()"
   ]
  },
  {
   "cell_type": "markdown",
   "id": "8b896986-c272-4700-86d2-4f4d5d8a9a19",
   "metadata": {},
   "source": [
    "Step 5: Binary Encoding\n",
    "Convert the following binary fields:\n",
    "Column\n",
    "Mapping\n",
    "online_order\n",
    "Yes → 1, No → 0\n",
    "book_table\n",
    "Yes → 1, No → 0\n",
    "\n"
   ]
  },
  {
   "cell_type": "code",
   "execution_count": 32,
   "id": "003d0e52-673f-4533-b23c-91b81f902bde",
   "metadata": {},
   "outputs": [
    {
     "data": {
      "text/plain": [
       "0"
      ]
     },
     "execution_count": 32,
     "metadata": {},
     "output_type": "execute_result"
    }
   ],
   "source": [
    "zomato_data['online_order'].isnull().sum()"
   ]
  },
  {
   "cell_type": "code",
   "execution_count": 33,
   "id": "f157f491-ed8c-40de-87ee-4953fddc4922",
   "metadata": {},
   "outputs": [],
   "source": [
    "zomato_data['online_order']=np.where(zomato_data['online_order']=='Yes',1,0)"
   ]
  },
  {
   "cell_type": "code",
   "execution_count": 34,
   "id": "b6f4d0a4-024b-474c-9d75-9351502500db",
   "metadata": {},
   "outputs": [
    {
     "data": {
      "text/plain": [
       "0        1\n",
       "1        1\n",
       "2        1\n",
       "3        0\n",
       "4        0\n",
       "        ..\n",
       "51712    0\n",
       "51713    0\n",
       "51714    0\n",
       "51715    0\n",
       "51716    0\n",
       "Name: online_order, Length: 51717, dtype: int32"
      ]
     },
     "execution_count": 34,
     "metadata": {},
     "output_type": "execute_result"
    }
   ],
   "source": [
    "zomato_data['online_order']"
   ]
  },
  {
   "cell_type": "code",
   "execution_count": 35,
   "id": "4f25fb64-9a31-4190-b916-392b879a7fbb",
   "metadata": {},
   "outputs": [],
   "source": [
    "zomato_data['book_table']=np.where(zomato_data['book_table']=='Yes',1,0)"
   ]
  },
  {
   "cell_type": "code",
   "execution_count": 36,
   "id": "15b178fb-a741-4daa-b644-ac577040db0d",
   "metadata": {},
   "outputs": [
    {
     "data": {
      "text/plain": [
       "0        1\n",
       "1        0\n",
       "2        0\n",
       "3        0\n",
       "4        0\n",
       "        ..\n",
       "51712    0\n",
       "51713    0\n",
       "51714    0\n",
       "51715    1\n",
       "51716    0\n",
       "Name: book_table, Length: 51717, dtype: int32"
      ]
     },
     "execution_count": 36,
     "metadata": {},
     "output_type": "execute_result"
    }
   ],
   "source": [
    "zomato_data['book_table']"
   ]
  },
  {
   "cell_type": "markdown",
   "id": "5f7a612a-c8d4-4482-aa93-1ff12c1e92c7",
   "metadata": {},
   "source": [
    "Step 6: Data Type Conversion\n",
    "Ensure the following conversions:\n",
    "rate → float\n",
    "\n",
    "\n",
    "votes → integer\n",
    "\n",
    "\n",
    "approx_costfor_two_people → integer"
   ]
  },
  {
   "cell_type": "code",
   "execution_count": 38,
   "id": "1fa56639-533f-4484-94a7-5f3a8d107a88",
   "metadata": {},
   "outputs": [
    {
     "data": {
      "text/plain": [
       "dtype('float64')"
      ]
     },
     "execution_count": 38,
     "metadata": {},
     "output_type": "execute_result"
    }
   ],
   "source": [
    "zomato_data['rate'].dtype"
   ]
  },
  {
   "cell_type": "code",
   "execution_count": 39,
   "id": "914e648a-be37-4103-b59f-47fa014a166e",
   "metadata": {},
   "outputs": [
    {
     "data": {
      "text/plain": [
       "dtype('int64')"
      ]
     },
     "execution_count": 39,
     "metadata": {},
     "output_type": "execute_result"
    }
   ],
   "source": [
    "zomato_data['votes'].dtype"
   ]
  },
  {
   "cell_type": "code",
   "execution_count": 40,
   "id": "1ca5133e-bab4-4939-b21c-30003eff03ec",
   "metadata": {},
   "outputs": [
    {
     "data": {
      "text/plain": [
       "dtype('float64')"
      ]
     },
     "execution_count": 40,
     "metadata": {},
     "output_type": "execute_result"
    }
   ],
   "source": [
    "zomato_data['approx_costfor_two_people'].dtype"
   ]
  },
  {
   "cell_type": "code",
   "execution_count": 41,
   "id": "103acc09-08b0-4827-83d8-9a4e810f9be9",
   "metadata": {},
   "outputs": [],
   "source": [
    "zomato_data['approx_costfor_two_people']=zomato_data['approx_costfor_two_people'].astype(int)"
   ]
  },
  {
   "cell_type": "code",
   "execution_count": 42,
   "id": "ed894993-45aa-4700-a1fd-b8c38dece452",
   "metadata": {},
   "outputs": [
    {
     "data": {
      "text/plain": [
       "dtype('int32')"
      ]
     },
     "execution_count": 42,
     "metadata": {},
     "output_type": "execute_result"
    }
   ],
   "source": [
    "zomato_data['approx_costfor_two_people'].dtype"
   ]
  },
  {
   "cell_type": "code",
   "execution_count": 43,
   "id": "02febe01-66f3-45bc-a946-6a5dcc0ea20d",
   "metadata": {},
   "outputs": [
    {
     "name": "stdout",
     "output_type": "stream",
     "text": [
      "<class 'pandas.core.frame.DataFrame'>\n",
      "RangeIndex: 51717 entries, 0 to 51716\n",
      "Data columns (total 10 columns):\n",
      " #   Column                     Non-Null Count  Dtype  \n",
      "---  ------                     --------------  -----  \n",
      " 0   online_order               51717 non-null  int32  \n",
      " 1   book_table                 51717 non-null  int32  \n",
      " 2   rate                       51717 non-null  float64\n",
      " 3   votes                      51717 non-null  int64  \n",
      " 4   rest_type                  51717 non-null  object \n",
      " 5   dish_liked                 51717 non-null  object \n",
      " 6   cuisines                   51717 non-null  object \n",
      " 7   approx_costfor_two_people  51717 non-null  int32  \n",
      " 8   listed_intype              51717 non-null  object \n",
      " 9   listed_incity              51717 non-null  object \n",
      "dtypes: float64(1), int32(3), int64(1), object(5)\n",
      "memory usage: 3.4+ MB\n"
     ]
    }
   ],
   "source": [
    "zomato_data.info()"
   ]
  },
  {
   "cell_type": "code",
   "execution_count": 44,
   "id": "feb4e8c9-60a5-45c6-b89e-b25bff13409f",
   "metadata": {
    "scrolled": true
   },
   "outputs": [
    {
     "data": {
      "text/html": [
       "<div>\n",
       "<style scoped>\n",
       "    .dataframe tbody tr th:only-of-type {\n",
       "        vertical-align: middle;\n",
       "    }\n",
       "\n",
       "    .dataframe tbody tr th {\n",
       "        vertical-align: top;\n",
       "    }\n",
       "\n",
       "    .dataframe thead th {\n",
       "        text-align: right;\n",
       "    }\n",
       "</style>\n",
       "<table border=\"1\" class=\"dataframe\">\n",
       "  <thead>\n",
       "    <tr style=\"text-align: right;\">\n",
       "      <th></th>\n",
       "      <th>online_order</th>\n",
       "      <th>book_table</th>\n",
       "      <th>rate</th>\n",
       "      <th>votes</th>\n",
       "      <th>approx_costfor_two_people</th>\n",
       "    </tr>\n",
       "  </thead>\n",
       "  <tbody>\n",
       "    <tr>\n",
       "      <th>count</th>\n",
       "      <td>51717.000000</td>\n",
       "      <td>51717.000000</td>\n",
       "      <td>51717.000000</td>\n",
       "      <td>51717.000000</td>\n",
       "      <td>51717.000000</td>\n",
       "    </tr>\n",
       "    <tr>\n",
       "      <th>mean</th>\n",
       "      <td>0.588665</td>\n",
       "      <td>0.124698</td>\n",
       "      <td>3.700362</td>\n",
       "      <td>283.697527</td>\n",
       "      <td>554.391689</td>\n",
       "    </tr>\n",
       "    <tr>\n",
       "      <th>std</th>\n",
       "      <td>0.492080</td>\n",
       "      <td>0.330379</td>\n",
       "      <td>0.395391</td>\n",
       "      <td>803.838853</td>\n",
       "      <td>437.563723</td>\n",
       "    </tr>\n",
       "    <tr>\n",
       "      <th>min</th>\n",
       "      <td>0.000000</td>\n",
       "      <td>0.000000</td>\n",
       "      <td>1.800000</td>\n",
       "      <td>0.000000</td>\n",
       "      <td>40.000000</td>\n",
       "    </tr>\n",
       "    <tr>\n",
       "      <th>25%</th>\n",
       "      <td>0.000000</td>\n",
       "      <td>0.000000</td>\n",
       "      <td>3.500000</td>\n",
       "      <td>7.000000</td>\n",
       "      <td>300.000000</td>\n",
       "    </tr>\n",
       "    <tr>\n",
       "      <th>50%</th>\n",
       "      <td>1.000000</td>\n",
       "      <td>0.000000</td>\n",
       "      <td>3.700000</td>\n",
       "      <td>41.000000</td>\n",
       "      <td>400.000000</td>\n",
       "    </tr>\n",
       "    <tr>\n",
       "      <th>75%</th>\n",
       "      <td>1.000000</td>\n",
       "      <td>0.000000</td>\n",
       "      <td>3.900000</td>\n",
       "      <td>198.000000</td>\n",
       "      <td>650.000000</td>\n",
       "    </tr>\n",
       "    <tr>\n",
       "      <th>max</th>\n",
       "      <td>1.000000</td>\n",
       "      <td>1.000000</td>\n",
       "      <td>4.900000</td>\n",
       "      <td>16832.000000</td>\n",
       "      <td>6000.000000</td>\n",
       "    </tr>\n",
       "  </tbody>\n",
       "</table>\n",
       "</div>"
      ],
      "text/plain": [
       "       online_order    book_table          rate         votes  \\\n",
       "count  51717.000000  51717.000000  51717.000000  51717.000000   \n",
       "mean       0.588665      0.124698      3.700362    283.697527   \n",
       "std        0.492080      0.330379      0.395391    803.838853   \n",
       "min        0.000000      0.000000      1.800000      0.000000   \n",
       "25%        0.000000      0.000000      3.500000      7.000000   \n",
       "50%        1.000000      0.000000      3.700000     41.000000   \n",
       "75%        1.000000      0.000000      3.900000    198.000000   \n",
       "max        1.000000      1.000000      4.900000  16832.000000   \n",
       "\n",
       "       approx_costfor_two_people  \n",
       "count               51717.000000  \n",
       "mean                  554.391689  \n",
       "std                   437.563723  \n",
       "min                    40.000000  \n",
       "25%                   300.000000  \n",
       "50%                   400.000000  \n",
       "75%                   650.000000  \n",
       "max                  6000.000000  "
      ]
     },
     "execution_count": 44,
     "metadata": {},
     "output_type": "execute_result"
    }
   ],
   "source": [
    "zomato_data.describe()"
   ]
  },
  {
   "cell_type": "code",
   "execution_count": 483,
   "id": "6f4ab76d-ba61-4241-bfb6-bf4e26b1f139",
   "metadata": {},
   "outputs": [],
   "source": [
    "#eda"
   ]
  },
  {
   "cell_type": "code",
   "execution_count": 485,
   "id": "05052032-efa4-453f-a14a-ea4e93ac756b",
   "metadata": {},
   "outputs": [
    {
     "name": "stdout",
     "output_type": "stream",
     "text": [
      "<class 'pandas.core.frame.DataFrame'>\n",
      "RangeIndex: 51717 entries, 0 to 51716\n",
      "Data columns (total 10 columns):\n",
      " #   Column                     Non-Null Count  Dtype  \n",
      "---  ------                     --------------  -----  \n",
      " 0   online_order               51717 non-null  int32  \n",
      " 1   book_table                 51717 non-null  int32  \n",
      " 2   rate                       51717 non-null  float64\n",
      " 3   votes                      51717 non-null  int64  \n",
      " 4   rest_type                  51717 non-null  object \n",
      " 5   dish_liked                 51717 non-null  object \n",
      " 6   cuisines                   51717 non-null  object \n",
      " 7   approx_costfor_two_people  51717 non-null  int32  \n",
      " 8   listed_intype              51717 non-null  object \n",
      " 9   listed_incity              51717 non-null  object \n",
      "dtypes: float64(1), int32(3), int64(1), object(5)\n",
      "memory usage: 3.4+ MB\n"
     ]
    }
   ],
   "source": [
    "zomato_data.info()"
   ]
  },
  {
   "cell_type": "code",
   "execution_count": null,
   "id": "9fa0e4ff-716b-4fa8-82f8-e86c986c32a0",
   "metadata": {},
   "outputs": [],
   "source": []
  },
  {
   "cell_type": "code",
   "execution_count": 487,
   "id": "e04a1361-dc75-4eb1-a722-b13d9a45b243",
   "metadata": {},
   "outputs": [
    {
     "data": {
      "text/html": [
       "<div>\n",
       "<style scoped>\n",
       "    .dataframe tbody tr th:only-of-type {\n",
       "        vertical-align: middle;\n",
       "    }\n",
       "\n",
       "    .dataframe tbody tr th {\n",
       "        vertical-align: top;\n",
       "    }\n",
       "\n",
       "    .dataframe thead th {\n",
       "        text-align: right;\n",
       "    }\n",
       "</style>\n",
       "<table border=\"1\" class=\"dataframe\">\n",
       "  <thead>\n",
       "    <tr style=\"text-align: right;\">\n",
       "      <th></th>\n",
       "      <th>online_order</th>\n",
       "      <th>book_table</th>\n",
       "      <th>rate</th>\n",
       "      <th>votes</th>\n",
       "      <th>rest_type</th>\n",
       "      <th>dish_liked</th>\n",
       "      <th>cuisines</th>\n",
       "      <th>approx_costfor_two_people</th>\n",
       "      <th>listed_intype</th>\n",
       "      <th>listed_incity</th>\n",
       "    </tr>\n",
       "  </thead>\n",
       "  <tbody>\n",
       "    <tr>\n",
       "      <th>0</th>\n",
       "      <td>1</td>\n",
       "      <td>1</td>\n",
       "      <td>4.1</td>\n",
       "      <td>775</td>\n",
       "      <td>Casual Dining</td>\n",
       "      <td>Pasta, Lunch Buffet, Masala Papad, Paneer Laja...</td>\n",
       "      <td>North Indian, Mughlai, Chinese</td>\n",
       "      <td>800</td>\n",
       "      <td>Buffet</td>\n",
       "      <td>Banashankari</td>\n",
       "    </tr>\n",
       "    <tr>\n",
       "      <th>1</th>\n",
       "      <td>1</td>\n",
       "      <td>0</td>\n",
       "      <td>4.1</td>\n",
       "      <td>787</td>\n",
       "      <td>Casual Dining</td>\n",
       "      <td>Momos, Lunch Buffet, Chocolate Nirvana, Thai G...</td>\n",
       "      <td>Chinese, North Indian, Thai</td>\n",
       "      <td>800</td>\n",
       "      <td>Buffet</td>\n",
       "      <td>Banashankari</td>\n",
       "    </tr>\n",
       "    <tr>\n",
       "      <th>2</th>\n",
       "      <td>1</td>\n",
       "      <td>0</td>\n",
       "      <td>3.8</td>\n",
       "      <td>918</td>\n",
       "      <td>Cafe, Casual Dining</td>\n",
       "      <td>Churros, Cannelloni, Minestrone Soup, Hot Choc...</td>\n",
       "      <td>Cafe, Mexican, Italian</td>\n",
       "      <td>800</td>\n",
       "      <td>Buffet</td>\n",
       "      <td>Banashankari</td>\n",
       "    </tr>\n",
       "    <tr>\n",
       "      <th>3</th>\n",
       "      <td>0</td>\n",
       "      <td>0</td>\n",
       "      <td>3.7</td>\n",
       "      <td>88</td>\n",
       "      <td>Quick Bites</td>\n",
       "      <td>Masala Dosa</td>\n",
       "      <td>South Indian, North Indian</td>\n",
       "      <td>300</td>\n",
       "      <td>Buffet</td>\n",
       "      <td>Banashankari</td>\n",
       "    </tr>\n",
       "    <tr>\n",
       "      <th>4</th>\n",
       "      <td>0</td>\n",
       "      <td>0</td>\n",
       "      <td>3.8</td>\n",
       "      <td>166</td>\n",
       "      <td>Casual Dining</td>\n",
       "      <td>Panipuri, Gol Gappe</td>\n",
       "      <td>North Indian, Rajasthani</td>\n",
       "      <td>600</td>\n",
       "      <td>Buffet</td>\n",
       "      <td>Banashankari</td>\n",
       "    </tr>\n",
       "  </tbody>\n",
       "</table>\n",
       "</div>"
      ],
      "text/plain": [
       "   online_order  book_table  rate  votes            rest_type  \\\n",
       "0             1           1   4.1    775        Casual Dining   \n",
       "1             1           0   4.1    787        Casual Dining   \n",
       "2             1           0   3.8    918  Cafe, Casual Dining   \n",
       "3             0           0   3.7     88          Quick Bites   \n",
       "4             0           0   3.8    166        Casual Dining   \n",
       "\n",
       "                                          dish_liked  \\\n",
       "0  Pasta, Lunch Buffet, Masala Papad, Paneer Laja...   \n",
       "1  Momos, Lunch Buffet, Chocolate Nirvana, Thai G...   \n",
       "2  Churros, Cannelloni, Minestrone Soup, Hot Choc...   \n",
       "3                                        Masala Dosa   \n",
       "4                                Panipuri, Gol Gappe   \n",
       "\n",
       "                         cuisines  approx_costfor_two_people listed_intype  \\\n",
       "0  North Indian, Mughlai, Chinese                        800        Buffet   \n",
       "1     Chinese, North Indian, Thai                        800        Buffet   \n",
       "2          Cafe, Mexican, Italian                        800        Buffet   \n",
       "3      South Indian, North Indian                        300        Buffet   \n",
       "4        North Indian, Rajasthani                        600        Buffet   \n",
       "\n",
       "  listed_incity  \n",
       "0  Banashankari  \n",
       "1  Banashankari  \n",
       "2  Banashankari  \n",
       "3  Banashankari  \n",
       "4  Banashankari  "
      ]
     },
     "execution_count": 487,
     "metadata": {},
     "output_type": "execute_result"
    }
   ],
   "source": [
    "zomato_data.head()"
   ]
  },
  {
   "cell_type": "code",
   "execution_count": 489,
   "id": "113e2991-9d3d-4cfb-bb4d-fd3268721714",
   "metadata": {},
   "outputs": [
    {
     "data": {
      "text/plain": [
       "online_order\n",
       "1    30444\n",
       "0    21273\n",
       "Name: count, dtype: int64"
      ]
     },
     "execution_count": 489,
     "metadata": {},
     "output_type": "execute_result"
    }
   ],
   "source": [
    "zomato_data['online_order'].value_counts()"
   ]
  },
  {
   "cell_type": "code",
   "execution_count": 555,
   "id": "f453baa9-0576-4454-b9a5-137687e4a704",
   "metadata": {},
   "outputs": [
    {
     "name": "stderr",
     "output_type": "stream",
     "text": [
      "C:\\Users\\SHIVAM\\AppData\\Local\\Temp\\ipykernel_18360\\1397992395.py:2: FutureWarning: \n",
      "\n",
      "Passing `palette` without assigning `hue` is deprecated and will be removed in v0.14.0. Assign the `x` variable to `hue` and set `legend=False` for the same effect.\n",
      "\n",
      "  sns.countplot(x='online_order', data=zomato_data,palette='coolwarm')\n"
     ]
    },
    {
     "data": {
      "image/png": "[encoded data removed]",
      "text/plain": [
       "<Figure size 600x400 with 1 Axes>"
      ]
     },
     "metadata": {},
     "output_type": "display_data"
    }
   ],
   "source": [
    "plt.figure(figsize=(6, 4))\n",
    "sns.countplot(x='online_order', data=zomato_data,palette='coolwarm')\n",
    "plt.title('Online Order Availability')\n",
    "plt.xticks([0, 1], ['No', 'Yes'])\n",
    "plt.xlabel(\"Online Order\")\n",
    "plt.ylabel(\"Number of Restaurants\")\n",
    "plt.tight_layout()\n",
    "plt.show()"
   ]
  },
  {
   "cell_type": "markdown",
   "id": "14758888-080d-48eb-b0e2-282ad9a7ef1d",
   "metadata": {},
   "source": [
    "Insights:\n",
    "- most of the restaurants coming online for their service using zomato\n",
    "- it make digital convinence for the people and restaurants"
   ]
  },
  {
   "cell_type": "code",
   "execution_count": 565,
   "id": "484fc89d-477f-4b2a-8c3b-4321305912d0",
   "metadata": {},
   "outputs": [
    {
     "data": {
      "image/png": "[encoded data removed]",
      "text/plain": [
       "<Figure size 600x400 with 1 Axes>"
      ]
     },
     "metadata": {},
     "output_type": "display_data"
    }
   ],
   "source": [
    "plt.figure(figsize=(6, 4))\n",
    "sns.countplot(x='book_table', data=zomato_data,color='skyblue')\n",
    "plt.title('Table Booking Availability')\n",
    "plt.xticks([0, 1], ['No', 'Yes'])\n",
    "plt.xlabel(\"Book Table\")\n",
    "plt.ylabel(\"Number of Restaurants\")\n",
    "plt.tight_layout()\n",
    "plt.show()"
   ]
  },
  {
   "cell_type": "markdown",
   "id": "2706bffa-2dd2-41e7-a5fc-83cbffa9b5ab",
   "metadata": {},
   "source": [
    "Insights:\n",
    "- most of the restaurants are not prefered table booking\n",
    "- very less restaurant consider for table booking"
   ]
  },
  {
   "cell_type": "code",
   "execution_count": 570,
   "id": "01aaa133-f24d-43db-b349-82ec04ae3887",
   "metadata": {},
   "outputs": [
    {
     "data": {
      "image/png": "[encoded data removed]",
      "text/plain": [
       "<Figure size 800x400 with 1 Axes>"
      ]
     },
     "metadata": {},
     "output_type": "display_data"
    }
   ],
   "source": [
    "plt.figure(figsize=(8, 4))\n",
    "sns.histplot(zomato_data['rate'], bins=20, kde=True)\n",
    "plt.title('Distribution of Restaurant Ratings')\n",
    "plt.xlabel(\"Rating\")\n",
    "plt.ylabel(\"Count\")\n",
    "plt.tight_layout()\n",
    "plt.show()"
   ]
  },
  {
   "cell_type": "markdown",
   "id": "f04a14f3-d322-4470-bb5f-40aa35840dc7",
   "metadata": {},
   "source": [
    "Insights:\n",
    "- most of the average rating for the restaurants is between 3.5 to 4\n",
    "- fewer restaurants pass the 4.0 rating as they are luxary restaurant giving quality products"
   ]
  },
  {
   "cell_type": "code",
   "execution_count": 577,
   "id": "49b629b0-38ff-4759-8ac5-3c6e727db183",
   "metadata": {},
   "outputs": [
    {
     "name": "stderr",
     "output_type": "stream",
     "text": [
      "C:\\Users\\SHIVAM\\AppData\\Local\\Temp\\ipykernel_18360\\3054699096.py:3: FutureWarning: \n",
      "\n",
      "Passing `palette` without assigning `hue` is deprecated and will be removed in v0.14.0. Assign the `y` variable to `hue` and set `legend=False` for the same effect.\n",
      "\n",
      "  sns.barplot(x=top_rest_types.values, y=top_rest_types.index, palette=\"viridis\")\n"
     ]
    },
    {
     "data": {
      "image/png": "[encoded data removed]",
      "text/plain": [
       "<Figure size 1000x500 with 1 Axes>"
      ]
     },
     "metadata": {},
     "output_type": "display_data"
    }
   ],
   "source": [
    "plt.figure(figsize=(10, 5))\n",
    "top_rest_types = zomato_data['rest_type'].value_counts().nlargest(10)\n",
    "sns.barplot(x=top_rest_types.values, y=top_rest_types.index, palette=\"viridis\")\n",
    "plt.title('Top 10 Types of Restaurants')\n",
    "plt.xlabel(\"Count\")\n",
    "plt.ylabel(\"Restaurant Type\")\n",
    "plt.show()"
   ]
  },
  {
   "cell_type": "markdown",
   "id": "ce90b6f0-9129-4b3f-aa3c-ff8357f28f2f",
   "metadata": {},
   "source": [
    "Insights:\n",
    "- quick bites and casual dinning are most comman restaurant types."
   ]
  },
  {
   "cell_type": "code",
   "execution_count": null,
   "id": "79ca433f-99a4-4015-b076-a41126973e98",
   "metadata": {},
   "outputs": [],
   "source": []
  },
  {
   "cell_type": "code",
   "execution_count": null,
   "id": "fbaf1741-2da9-4204-9e3f-6ced25c20340",
   "metadata": {},
   "outputs": [],
   "source": []
  },
  {
   "cell_type": "code",
   "execution_count": 45,
   "id": "c1d58778-8657-4bf2-a26b-91442ead6eac",
   "metadata": {},
   "outputs": [],
   "source": [
    "# zomato_data.to_csv('cleaned_zomato_data.csv',index=False)"
   ]
  },
  {
   "cell_type": "code",
   "execution_count": 46,
   "id": "dfcb73d0-6db8-47e9-9199-44e2fbf43597",
   "metadata": {},
   "outputs": [],
   "source": [
    "# eda"
   ]
  },
  {
   "cell_type": "code",
   "execution_count": 47,
   "id": "6f22be5f-57d1-46a4-be51-5891c9940ff7",
   "metadata": {},
   "outputs": [
    {
     "data": {
      "text/plain": [
       "Index(['online_order', 'book_table', 'rate', 'votes', 'rest_type',\n",
       "       'dish_liked', 'cuisines', 'approx_costfor_two_people', 'listed_intype',\n",
       "       'listed_incity'],\n",
       "      dtype='object')"
      ]
     },
     "execution_count": 47,
     "metadata": {},
     "output_type": "execute_result"
    }
   ],
   "source": [
    "zomato_data.columns"
   ]
  },
  {
   "cell_type": "markdown",
   "id": "18f8a860-3acf-424c-b025-59e2184338c4",
   "metadata": {},
   "source": [
    "## mcq"
   ]
  },
  {
   "cell_type": "code",
   "execution_count": 96,
   "id": "021d5c75-f941-4ee3-9243-f72a9d195470",
   "metadata": {},
   "outputs": [],
   "source": [
    "#  What is the shape of the given dataset?"
   ]
  },
  {
   "cell_type": "code",
   "execution_count": 98,
   "id": "701b6cf8-50f7-4618-b4c4-887d08c958bd",
   "metadata": {},
   "outputs": [
    {
     "data": {
      "text/plain": [
       "(51717, 10)"
      ]
     },
     "execution_count": 98,
     "metadata": {},
     "output_type": "execute_result"
    }
   ],
   "source": [
    "zomato_data.shape"
   ]
  },
  {
   "cell_type": "code",
   "execution_count": 100,
   "id": "7293517a-cd0d-4068-85cc-6c12b17ce47e",
   "metadata": {},
   "outputs": [],
   "source": [
    "# 2. How many restaurants serve North Indian cuisine?"
   ]
  },
  {
   "cell_type": "code",
   "execution_count": 102,
   "id": "8d30bf4d-64a6-432b-9b54-af9e591a0b5f",
   "metadata": {},
   "outputs": [
    {
     "data": {
      "text/plain": [
       "21085"
      ]
     },
     "execution_count": 102,
     "metadata": {},
     "output_type": "execute_result"
    }
   ],
   "source": [
    "len(zomato_data.loc[zomato_data['cuisines'].str.contains('North Indian')])"
   ]
  },
  {
   "cell_type": "code",
   "execution_count": 104,
   "id": "9078af7c-9c1b-40a8-ac09-6da1957590bd",
   "metadata": {},
   "outputs": [],
   "source": [
    "# 3. What cuisine is most commonly offered by restaurants in Bangalore?\n"
   ]
  },
  {
   "cell_type": "code",
   "execution_count": 108,
   "id": "edb8e083-3638-4c16-89a3-7493960f934e",
   "metadata": {},
   "outputs": [
    {
     "data": {
      "text/plain": [
       "cuisines\n",
       "North Indian    2913\n",
       "Name: count, dtype: int64"
      ]
     },
     "execution_count": 108,
     "metadata": {},
     "output_type": "execute_result"
    }
   ],
   "source": [
    "zomato_data['cuisines'].value_counts().head(1)"
   ]
  },
  {
   "cell_type": "code",
   "execution_count": 110,
   "id": "7b8077e3-9f15-45f7-86ce-cc06f2ba17fc",
   "metadata": {},
   "outputs": [],
   "source": [
    "# . Which locality in Bangalore has the highest average cost for dining (for two people)?"
   ]
  },
  {
   "cell_type": "code",
   "execution_count": 114,
   "id": "88a1457a-f5a4-4db2-88d7-5866de1c770b",
   "metadata": {},
   "outputs": [
    {
     "data": {
      "text/plain": [
       "listed_incity\n",
       "Church Street    770.361248\n",
       "Name: approx_costfor_two_people, dtype: float64"
      ]
     },
     "execution_count": 114,
     "metadata": {},
     "output_type": "execute_result"
    }
   ],
   "source": [
    "zomato_data.groupby('listed_incity')['approx_costfor_two_people'].mean().sort_values(ascending=False).head(1)"
   ]
  },
  {
   "cell_type": "code",
   "execution_count": 116,
   "id": "faf141a0-d8b2-44fc-8e81-d21c48d0ae62",
   "metadata": {},
   "outputs": [],
   "source": [
    "# 5. Which restaurant type has the top rating with over 1000 votes?"
   ]
  },
  {
   "cell_type": "code",
   "execution_count": 162,
   "id": "cb477815-b91f-4536-b2bc-aee037aa6ff8",
   "metadata": {},
   "outputs": [
    {
     "data": {
      "text/plain": [
       "11504    Casual Dining, Bar\n",
       "Name: rest_type, dtype: object"
      ]
     },
     "execution_count": 162,
     "metadata": {},
     "output_type": "execute_result"
    }
   ],
   "source": [
    "zomato_data[zomato_data['votes']>1000].sort_values('rate',ascending=False)['rest_type'].head(1)"
   ]
  },
  {
   "cell_type": "code",
   "execution_count": 164,
   "id": "c6b46e46-1af5-41f5-9624-9fa1fe1de802",
   "metadata": {},
   "outputs": [],
   "source": [
    "# 6. How much does it cost at minimum to eat out in Bangalore?"
   ]
  },
  {
   "cell_type": "code",
   "execution_count": 178,
   "id": "f197ccca-5e5f-4340-9987-25d8f64c6881",
   "metadata": {},
   "outputs": [
    {
     "data": {
      "text/plain": [
       "200"
      ]
     },
     "execution_count": 178,
     "metadata": {},
     "output_type": "execute_result"
    }
   ],
   "source": [
    "zomato_data[zomato_data['rest_type']=='Casual Dining']['approx_costfor_two_people'].min()"
   ]
  },
  {
   "cell_type": "code",
   "execution_count": 180,
   "id": "0f76695a-396e-4550-a162-71dec3576302",
   "metadata": {},
   "outputs": [],
   "source": [
    "# 7. What percentage of total online orders is received by restaurants in Banashankari?"
   ]
  },
  {
   "cell_type": "code",
   "execution_count": 218,
   "id": "2404de6a-9f5f-4122-9a67-67f3315dd56f",
   "metadata": {},
   "outputs": [
    {
     "data": {
      "text/plain": [
       "546"
      ]
     },
     "execution_count": 218,
     "metadata": {},
     "output_type": "execute_result"
    }
   ],
   "source": [
    "len(zomato_data[(zomato_data['listed_incity']=='Banashankari')&(zomato_data['online_order']==1)])"
   ]
  },
  {
   "cell_type": "code",
   "execution_count": 234,
   "id": "842a1cc7-3d08-4d50-b399-de4e5c9478b4",
   "metadata": {},
   "outputs": [
    {
     "data": {
      "text/plain": [
       "863"
      ]
     },
     "execution_count": 234,
     "metadata": {},
     "output_type": "execute_result"
    }
   ],
   "source": [
    "len(zomato_data[zomato_data['listed_incity']=='Banashankari']['online_order'])"
   ]
  },
  {
   "cell_type": "code",
   "execution_count": 238,
   "id": "05c14f2a-3303-46a0-9b37-bbef53af7150",
   "metadata": {},
   "outputs": [
    {
     "data": {
      "text/plain": [
       "0.6326767091541136"
      ]
     },
     "execution_count": 238,
     "metadata": {},
     "output_type": "execute_result"
    }
   ],
   "source": [
    "546/863"
   ]
  },
  {
   "cell_type": "code",
   "execution_count": 240,
   "id": "6563d0ad-e5aa-4943-94d5-bcab48701e92",
   "metadata": {},
   "outputs": [],
   "source": [
    "## 8. Which locality has the most restaurants with over 500 votes and a rating below 3.0?"
   ]
  },
  {
   "cell_type": "code",
   "execution_count": 274,
   "id": "34efb39b-5a3c-4c41-b7f7-365c96c95bc4",
   "metadata": {},
   "outputs": [
    {
     "data": {
      "text/plain": [
       "listed_incity\n",
       "Brookefield    8\n",
       "dtype: int64"
      ]
     },
     "execution_count": 274,
     "metadata": {},
     "output_type": "execute_result"
    }
   ],
   "source": [
    "zomato_data[(zomato_data['votes']>500) & (zomato_data['rate']<3.0)].groupby('listed_incity').size().sort_values(ascending=False).head(1)"
   ]
  },
  {
   "cell_type": "code",
   "execution_count": 276,
   "id": "29a3d37a-e49c-4b18-b0bb-7b6593316fac",
   "metadata": {},
   "outputs": [],
   "source": [
    "## 9. Which locality in Bangalore should Zomato target for expansion based on restaurant type diversity?"
   ]
  },
  {
   "cell_type": "code",
   "execution_count": 308,
   "id": "17040cdd-1f20-4a91-9898-96ba92e4a8bc",
   "metadata": {},
   "outputs": [
    {
     "data": {
      "text/plain": [
       "listed_incity  rest_type  \n",
       "BTM            Quick Bites    1305\n",
       "Name: count, dtype: int64"
      ]
     },
     "execution_count": 308,
     "metadata": {},
     "output_type": "execute_result"
    }
   ],
   "source": [
    "zomato_data.groupby('listed_incity')['rest_type'].value_counts().head(1)"
   ]
  },
  {
   "cell_type": "code",
   "execution_count": 310,
   "id": "d3c872f1-ac9a-4e86-a970-9e81f7c0846f",
   "metadata": {},
   "outputs": [],
   "source": [
    "## 10. What's the average cost difference between buffet and delivery restaurants?"
   ]
  },
  {
   "cell_type": "code",
   "execution_count": 333,
   "id": "67cee758-4d6e-4231-affd-e11d21e9dac5",
   "metadata": {},
   "outputs": [],
   "source": [
    "avg_buffet=zomato_data[zomato_data['listed_intype']=='Buffet']['approx_costfor_two_people'].mean()"
   ]
  },
  {
   "cell_type": "code",
   "execution_count": 335,
   "id": "95327f37-0943-47d6-a19f-6134a78ae754",
   "metadata": {},
   "outputs": [],
   "source": [
    "avg_delivery=zomato_data[zomato_data['listed_intype']=='Delivery']['approx_costfor_two_people'].mean()"
   ]
  },
  {
   "cell_type": "code",
   "execution_count": 339,
   "id": "4b3822f6-9dbb-40cb-aef0-de08cfac6d6b",
   "metadata": {},
   "outputs": [
    {
     "data": {
      "text/plain": [
       "831.2513659898209"
      ]
     },
     "execution_count": 339,
     "metadata": {},
     "output_type": "execute_result"
    }
   ],
   "source": [
    "avg_buffet-avg_delivery"
   ]
  },
  {
   "cell_type": "code",
   "execution_count": 341,
   "id": "ac944682-753e-48b6-b678-10efc1f24a80",
   "metadata": {},
   "outputs": [],
   "source": [
    "## 11 . What is the maximum number of votes received by any restaurant with online ordering?"
   ]
  },
  {
   "cell_type": "code",
   "execution_count": 355,
   "id": "1176a788-c32e-4ce1-9693-edce7719183d",
   "metadata": {},
   "outputs": [
    {
     "data": {
      "text/plain": [
       "49170    16832\n",
       "49627    16832\n",
       "50059    16832\n",
       "Name: votes, dtype: int64"
      ]
     },
     "execution_count": 355,
     "metadata": {},
     "output_type": "execute_result"
    }
   ],
   "source": [
    "zomato_data[(zomato_data['votes']==zomato_data['votes'].max()) & (zomato_data['online_order']==1)]['votes']"
   ]
  },
  {
   "cell_type": "code",
   "execution_count": 357,
   "id": "0ee8c58c-aaff-45db-9201-7d392ac1686e",
   "metadata": {},
   "outputs": [],
   "source": [
    "## 12. What is the average rating of restaurants that serve both North Indian and Chinese cuisines?"
   ]
  },
  {
   "cell_type": "code",
   "execution_count": 369,
   "id": "72682e83-b3e0-46f0-acb4-2a3731fa1821",
   "metadata": {},
   "outputs": [
    {
     "data": {
      "text/plain": [
       "3.591952011997001"
      ]
     },
     "execution_count": 369,
     "metadata": {},
     "output_type": "execute_result"
    }
   ],
   "source": [
    "zomato_data[(zomato_data['cuisines'].str.contains('Indian')) & (zomato_data['cuisines'].str.contains('Chinese'))]['rate'].mean()"
   ]
  },
  {
   "cell_type": "code",
   "execution_count": 371,
   "id": "05e4c78a-38c8-40ff-bf16-c5508bae9e2d",
   "metadata": {},
   "outputs": [],
   "source": [
    "## 13. What is the most profitable area for Zomato based on potential revenue estimation?"
   ]
  },
  {
   "cell_type": "code",
   "execution_count": 377,
   "id": "71f77cef-588a-4eff-a7a3-2bc465ab0e42",
   "metadata": {},
   "outputs": [
    {
     "data": {
      "text/plain": [
       "listed_incity\n",
       "Indiranagar              6000\n",
       "Old Airport Road         6000\n",
       "Malleshwaram             5000\n",
       "Marathahalli             4500\n",
       "Lavelle Road             4100\n",
       "Residency Road           4000\n",
       "Brigade Road             4000\n",
       "MG Road                  4000\n",
       "Church Street            4000\n",
       "Whitefield               3000\n",
       "Koramangala 4th Block    3000\n",
       "Frazer Town              3000\n",
       "Electronic City          3000\n",
       "Brookefield              3000\n",
       "Rajajinagar              2600\n",
       "Koramangala 6th Block    2500\n",
       "Sarjapur Road            2500\n",
       "Koramangala 7th Block    2500\n",
       "BTM                      2500\n",
       "Koramangala 5th Block    2500\n",
       "Bellandur                2500\n",
       "Basavanagudi             2200\n",
       "New BEL Road             2000\n",
       "HSR                      2000\n",
       "Kammanahalli             2000\n",
       "Kalyan Nagar             1800\n",
       "Jayanagar                1700\n",
       "JP Nagar                 1700\n",
       "Bannerghatta Road        1700\n",
       "Banashankari             1500\n",
       "Name: approx_costfor_two_people, dtype: int32"
      ]
     },
     "execution_count": 377,
     "metadata": {},
     "output_type": "execute_result"
    }
   ],
   "source": [
    "zomato_data.groupby('listed_incity')['approx_costfor_two_people'].max().sort_values(ascending=False)"
   ]
  },
  {
   "cell_type": "code",
   "execution_count": 379,
   "id": "383f8efe-9768-4d1a-97f0-7bd7aa4a51d7",
   "metadata": {},
   "outputs": [],
   "source": [
    "## 14. If Zomato wants to reduce customer complaints, which restaurant type should they focus on?"
   ]
  },
  {
   "cell_type": "code",
   "execution_count": 432,
   "id": "ca3c1e21-67c5-463e-8fec-7857e661fe29",
   "metadata": {},
   "outputs": [
    {
     "data": {
      "text/plain": [
       "rest_type\n",
       "Casual Dining, Bar           4.9\n",
       "Casual Dining                4.9\n",
       "Dessert Parlor               4.9\n",
       "Microbrewery                 4.9\n",
       "Bakery                       4.8\n",
       "                            ... \n",
       "Food Court, Casual Dining    3.4\n",
       "Bhojanalya                   3.3\n",
       "Quick Bites, Kiosk           3.3\n",
       "Bakery, Food Court           3.2\n",
       "Dessert Parlor, Kiosk        3.1\n",
       "Name: rate, Length: 94, dtype: float64"
      ]
     },
     "execution_count": 432,
     "metadata": {},
     "output_type": "execute_result"
    }
   ],
   "source": [
    "zomato_data.groupby(['rest_type'])['rate'].max().sort_values(ascending=False)"
   ]
  },
  {
   "cell_type": "code",
   "execution_count": 445,
   "id": "e56f1cd7-f55c-45af-8504-ad58f377ac9b",
   "metadata": {},
   "outputs": [],
   "source": [
    "## 15. In which area should Zomato invest by considering high rating (rate > 4.2), high number of votes (> 500) and including online orders?"
   ]
  },
  {
   "cell_type": "code",
   "execution_count": 481,
   "id": "e1913d11-9fb7-42ac-b613-8d6fa9a9702c",
   "metadata": {},
   "outputs": [
    {
     "data": {
      "text/plain": [
       "listed_incity  online_order\n",
       "MG Road        1               97\n",
       "Name: count, dtype: int64"
      ]
     },
     "execution_count": 481,
     "metadata": {},
     "output_type": "execute_result"
    }
   ],
   "source": [
    "zomato_data[(zomato_data['rate']>4.2) & (zomato_data['votes']>500) & (zomato_data['online_order']==1)].groupby('listed_incity')['online_order'].value_counts().sort_values(ascending=False).head(1)"
   ]
  },
  {
   "cell_type": "code",
   "execution_count": null,
   "id": "db2e20d4-febd-4f24-9f6d-06626286a0fa",
   "metadata": {},
   "outputs": [],
   "source": []
  }
 ],
 "metadata": {
  "kernelspec": {
   "display_name": "Python 3 (ipykernel)",
   "language": "python",
   "name": "python3"
  },
  "language_info": {
   "codemirror_mode": {
    "name": "ipython",
    "version": 3
   },
   "file_extension": ".py",
   "mimetype": "text/x-python",
   "name": "python",
   "nbconvert_exporter": "python",
   "pygments_lexer": "ipython3",
   "version": "3.12.7"
  }
 },
 "nbformat": 4,
 "nbformat_minor": 5
}
